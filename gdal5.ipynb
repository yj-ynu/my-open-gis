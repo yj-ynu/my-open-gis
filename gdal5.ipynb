{
 "cells": [
  {
   "cell_type": "code",
   "execution_count": 1,
   "metadata": {},
   "outputs": [],
   "source": [
    "##栅格数据与矢量数据的转换\n",
    "from osgeo import gdal, ogr\n",
    "import matplotlib.pyplot as plt"
   ]
  },
  {
   "cell_type": "code",
   "execution_count": 2,
   "metadata": {},
   "outputs": [
    {
     "name": "stdout",
     "output_type": "stream",
     "text": [
      "(1806, 1979)\n"
     ]
    }
   ],
   "source": [
    "path_mndwi = 'E:\\\\开源\\\\HW2\\\\neijiang_6bands_10m_extractor.tif'\n",
    "dset = gdal.Open(path_mndwi)\n",
    "##提取栅格图像的数组\n",
    "mndwi = dset.GetRasterBand(1)##mndwi该数组只有一个波段\n",
    "mndwi_array = mndwi.ReadAsArray()\n",
    "print(mndwi_array.shape)"
   ]
  },
  {
   "cell_type": "code",
   "execution_count": 3,
   "metadata": {},
   "outputs": [],
   "source": [
    "path_mndwipolygon = 'E:\\\\开源\\\\HW2\\\\neijiang_shp.gpkg'\n",
    "\n",
    "proj = gdal.osr.SpatialReference()\n",
    "proj.ImportFromWkt(dset.GetProjection())\n",
    "\n",
    "driver_vec = ogr.GetDriverByName('GPKG')\n",
    "ds_vec = driver_vec.CreateDataSource(path_mndwipolygon)\n",
    "poly_layer = ds_vec.CreateLayer('mndwi_polygon', srs=proj, geom_type=ogr.wkbMultiPolygon)\n",
    "##栅格与矢量的空间参考一样，就从栅格读入给矢量\n",
    "Field_DN = ogr.FieldDefn('DN', ogr.OFTInteger)\n",
    "poly_layer.CreateField(Field_DN)\n",
    "##注意以下放大的三个参数：\n",
    "gdal.Polygonize(srcBand=mndwi,maskBand=None,outLayer=poly_layer,iPixValField=0)\n",
    "\n",
    "##删除非水体的面shp\n",
    "DN_vec = [1]\n",
    "for fea in poly_layer:\n",
    "    DN_value = fea.GetField('DN')\n",
    "    if DN_value not in DN_vec:\n",
    "        poly_layer.DeleteFeature(fea.GetFID())\n",
    "ds_vec = None\n",
    "dset = None"
   ]
  },
  {
   "cell_type": "code",
   "execution_count": 4,
   "metadata": {},
   "outputs": [],
   "source": [
    "path_vec = 'E:\\\\开源\\\\HW2\\\\neijiang_shp.gpkg'\n",
    "path_Raster = 'E:\\\\开源\\\\HW2\\\\neijiang_Raster.gpkg'"
   ]
  },
  {
   "cell_type": "code",
   "execution_count": 5,
   "metadata": {},
   "outputs": [
    {
     "name": "stdout",
     "output_type": "stream",
     "text": [
      "PROJCS[\"WGS 84 / UTM zone 48N\",\n",
      "    GEOGCS[\"WGS 84\",\n",
      "        DATUM[\"World Geodetic System 1984\",\n",
      "            SPHEROID[\"WGS 84\",6378137,298.257223563]],\n",
      "        PRIMEM[\"Greenwich\",0],\n",
      "        UNIT[\"degree\",0.0174532925199433,\n",
      "            AUTHORITY[\"EPSG\",\"9122\"]]],\n",
      "    PROJECTION[\"Transverse_Mercator\"],\n",
      "    PARAMETER[\"latitude_of_origin\",0],\n",
      "    PARAMETER[\"central_meridian\",105],\n",
      "    PARAMETER[\"scale_factor\",0.9996],\n",
      "    PARAMETER[\"false_easting\",500000],\n",
      "    PARAMETER[\"false_northing\",0],\n",
      "    UNIT[\"metre\",1,\n",
      "        AUTHORITY[\"EPSG\",\"9001\"]],\n",
      "    AXIS[\"Easting\",EAST],\n",
      "    AXIS[\"Northing\",NORTH]]\n"
     ]
    }
   ],
   "source": [
    "ds_vec = ogr.Open(path_vec)\n",
    "layer_vec =ds_vec.GetLayer()\n",
    "proj_vec = layer_vec.GetSpatialRef()\n",
    "##转为Wkt空间参考：\n",
    "proj_vec_wkt = proj_vec.ExportToWkt()\n",
    "print(proj_vec)"
   ]
  },
  {
   "cell_type": "code",
   "execution_count": 6,
   "metadata": {},
   "outputs": [
    {
     "name": "stdout",
     "output_type": "stream",
     "text": [
      "489960.0 509750.0 3263940.0 3282000.0\n"
     ]
    }
   ],
   "source": [
    "x_min, x_max,y_min,y_max = layer_vec.GetExtent()\n",
    "print(x_min,x_max,y_min,y_max)"
   ]
  },
  {
   "cell_type": "code",
   "execution_count": 9,
   "metadata": {},
   "outputs": [
    {
     "data": {
      "text/plain": [
       "0"
      ]
     },
     "execution_count": 9,
     "metadata": {},
     "output_type": "execute_result"
    }
   ],
   "source": [
    "pixel_size = 20\n",
    "geo_trans = [x_min,20,0,y_max,0,-20]\n",
    "\n",
    "\n",
    "x_size = int((x_max-x_min)/pixel_size)\n",
    "y_size = int((y_max-y_min)/pixel_size)\n",
    "\n",
    "driver = gdal.GetDriverByName('GTiff')\n",
    "dset_raster = driver.Create(path_Raster,\n",
    "                            xsize=x_size,\n",
    "                            ysize=y_size,\n",
    "                            bands=1,\n",
    "                            eType=gdal.GDT_Int16)\n",
    "dset_raster.SetGeoTransform(geo_trans)\n",
    "dset_raster.SetProjection(proj_vec_wkt)\n"
   ]
  },
  {
   "cell_type": "code",
   "execution_count": 10,
   "metadata": {},
   "outputs": [],
   "source": [
    "gdal.RasterizeLayer(dataset=dset_raster,bands=[1],layer=layer_vec, options=['ATTRIBUTE=DN'])\n",
    "dset_raster = None"
   ]
  }
 ],
 "metadata": {
  "kernelspec": {
   "display_name": "base",
   "language": "python",
   "name": "python3"
  },
  "language_info": {
   "codemirror_mode": {
    "name": "ipython",
    "version": 3
   },
   "file_extension": ".py",
   "mimetype": "text/x-python",
   "name": "python",
   "nbconvert_exporter": "python",
   "pygments_lexer": "ipython3",
   "version": "3.9.18"
  }
 },
 "nbformat": 4,
 "nbformat_minor": 2
}
