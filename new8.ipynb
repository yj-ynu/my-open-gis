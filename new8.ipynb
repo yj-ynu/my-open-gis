{
 "cells": [
  {
   "cell_type": "code",
   "execution_count": 1,
   "metadata": {},
   "outputs": [],
   "source": [
    "##12月5日：导入训练好的随机森林模型pickle（上次课的）"
   ]
  },
  {
   "cell_type": "code",
   "execution_count": 2,
   "metadata": {},
   "outputs": [],
   "source": [
    "import pickle\n",
    "import numpy as np\n",
    "import rasterio as rio\n",
    "import matplotlib.pyplot as plt\n",
    "from matplotlib import colors"
   ]
  },
  {
   "cell_type": "code",
   "execution_count": null,
   "metadata": {},
   "outputs": [],
   "source": [
    "path_model='data/section-7/model rf.pickle'\n",
    "path_rsimg =''"
   ]
  },
  {
   "cell_type": "code",
   "execution_count": null,
   "metadata": {},
   "outputs": [],
   "source": [
    "rsimg_rio = rio.open(path_rsimg)\n",
    "rsimg_rio.meta"
   ]
  },
  {
   "cell_type": "code",
   "execution_count": null,
   "metadata": {},
   "outputs": [],
   "source": [
    "rsimg_arr_nor = rsimg_arr/(10000-0)\n",
    "rsimg_arr_nor.shape"
   ]
  },
  {
   "cell_type": "code",
   "execution_count": null,
   "metadata": {},
   "outputs": [],
   "source": [
    "##三维数组转换成二维数组reshape\n",
    "rsimg_arr_2d=rsimg_arr_nor.reshape(-1,6)\n",
    "rsimg_arr_2d.shape"
   ]
  },
  {
   "cell_type": "code",
   "execution_count": null,
   "metadata": {},
   "outputs": [],
   "source": [
    "with open(path_model, 'rb') as file:\n",
    "    model_rf= pickle.load(file)"
   ]
  },
  {
   "cell_type": "code",
   "execution_count": null,
   "metadata": {},
   "outputs": [],
   "source": [
    "y_pred = model_rf.predict(rsimg_arr_2d)"
   ]
  },
  {
   "cell_type": "code",
   "execution_count": null,
   "metadata": {},
   "outputs": [],
   "source": [
    "y_pred.shape##二维数组变一维"
   ]
  },
  {
   "cell_type": "code",
   "execution_count": null,
   "metadata": {},
   "outputs": [],
   "source": [
    "y_pred"
   ]
  },
  {
   "cell_type": "code",
   "execution_count": null,
   "metadata": {},
   "outputs": [],
   "source": [
    "##转换：行列数与原始影像一致的二维数组\n",
    "y_pred_img=y_pred.reshape(rsimg_arr.shape[0:2])\n",
    "y_pred_img.shape"
   ]
  },
  {
   "cell_type": "code",
   "execution_count": null,
   "metadata": {},
   "outputs": [],
   "source": [
    "ids = np.where(rsimg_arr[:,:,0]==0)\n",
    "y_pred_img[ids]=-1"
   ]
  },
  {
   "cell_type": "code",
   "execution_count": null,
   "metadata": {},
   "outputs": [],
   "source": [
    "### 对不同类别分类结果赋不同彩色像元值\n",
    "color_list={0:np.array([0,0,255]),# water, blue\n",
    "            1:np.array([0,128,0]),# land, green\n",
    "            }\n",
    "y_pred_img_color = np.full(shape=(y_pred_img.shape[0],\n",
    "                                  y_pred_img.shape[1],3),\n",
    "                                  fill_value=-1)\n",
    "\n",
    "for color_code in color_list.keys():\n",
    "    y_pred_img_color[y_pred_img==color_code]= color_list[color_code]"
   ]
  },
  {
   "cell_type": "code",
   "execution_count": null,
   "metadata": {},
   "outputs": [],
   "source": []
  },
  {
   "cell_type": "code",
   "execution_count": null,
   "metadata": {},
   "outputs": [],
   "source": [
    "### 分类结果保存\n",
    "path_result='data/section-7/class result.tif'\n",
    "with rio.open(path_result,'w',\n",
    "              driver='GTiff',\n",
    "              height=y_pred_img.shape[0]\n",
    "              width=y_pred_img.shape[1],\n",
    "              count=1,\n",
    "              dtypesnp.int16,\n",
    "              crs=rsimg_rio.crs,\n",
    "              transform=rsimg_rio.transform)as dst:dst.write(y_pred img, 1)## the number 1 is the number of bands."
   ]
  }
 ],
 "metadata": {
  "kernelspec": {
   "display_name": "base",
   "language": "python",
   "name": "python3"
  },
  "language_info": {
   "codemirror_mode": {
    "name": "ipython",
    "version": 3
   },
   "file_extension": ".py",
   "mimetype": "text/x-python",
   "name": "python",
   "nbconvert_exporter": "python",
   "pygments_lexer": "ipython3",
   "version": "3.9.18"
  }
 },
 "nbformat": 4,
 "nbformat_minor": 2
}
