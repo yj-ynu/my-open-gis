{
 "cells": [
  {
   "cell_type": "code",
   "execution_count": null,
   "metadata": {},
   "outputs": [],
   "source": [
    "##11月14日\n",
    "path_rsimg = \"E:\\开源\\cg_20.tif\"\n",
    "path_vec = \"E:\\开源\\subset_4.gpkg\""
   ]
  },
  {
   "cell_type": "code",
   "execution_count": 2,
   "metadata": {},
   "outputs": [
    {
     "name": "stdout",
     "output_type": "stream",
     "text": [
      "{'driver': 'GTiff', 'dtype': 'uint16', 'nodata': None, 'width': 1490, 'height': 1631, 'count': 6, 'crs': CRS.from_wkt('PROJCS[\"WGS 84 / UTM zone 47N\",GEOGCS[\"WGS 84\",DATUM[\"World Geodetic System 1984\",SPHEROID[\"WGS 84\",6378137,298.257223563]],PRIMEM[\"Greenwich\",0],UNIT[\"degree\",0.0174532925199433,AUTHORITY[\"EPSG\",\"9122\"]]],PROJECTION[\"Transverse_Mercator\"],PARAMETER[\"latitude_of_origin\",0],PARAMETER[\"central_meridian\",99],PARAMETER[\"scale_factor\",0.9996],PARAMETER[\"false_easting\",500000],PARAMETER[\"false_northing\",0],UNIT[\"metre\",1,AUTHORITY[\"EPSG\",\"9001\"]],AXIS[\"Easting\",EAST],AXIS[\"Northing\",NORTH]]'), 'transform': Affine(20.0, 0.0, 874420.0,\n",
      "       0.0, -20.0, 2769600.0)}\n"
     ]
    },
    {
     "data": {
      "text/html": [
       "<div>\n",
       "<style scoped>\n",
       "    .dataframe tbody tr th:only-of-type {\n",
       "        vertical-align: middle;\n",
       "    }\n",
       "\n",
       "    .dataframe tbody tr th {\n",
       "        vertical-align: top;\n",
       "    }\n",
       "\n",
       "    .dataframe thead th {\n",
       "        text-align: right;\n",
       "    }\n",
       "</style>\n",
       "<table border=\"1\" class=\"dataframe\">\n",
       "  <thead>\n",
       "    <tr style=\"text-align: right;\">\n",
       "      <th></th>\n",
       "      <th>geometry</th>\n",
       "    </tr>\n",
       "  </thead>\n",
       "  <tbody>\n",
       "  </tbody>\n",
       "</table>\n",
       "</div>"
      ],
      "text/plain": [
       "Empty GeoDataFrame\n",
       "Columns: [geometry]\n",
       "Index: []"
      ]
     },
     "execution_count": 2,
     "metadata": {},
     "output_type": "execute_result"
    }
   ],
   "source": [
    "import rasterio as rio##读栅格\n",
    "import geopandas as gdp##读史量\n",
    "rsimg_rio = rio.open(path_rsimg)\n",
    "print(rsimg_rio.meta)\n",
    "##uint无符号整型在光谱计算时需要转化为整型\n",
    "vec_gdp = gdp.read_file(path_vec)\n",
    "##矢量为WGS84(经纬度)的投影，但是栅格为utm(m)，需要转换矢量为utm\n",
    "vec_gdp_utm = vec_gdp.to_crs(32648)\n",
    "vec_gdp_utm\n"
   ]
  },
  {
   "cell_type": "code",
   "execution_count": 3,
   "metadata": {},
   "outputs": [],
   "source": [
    "import matplotlib.pyplot as plt"
   ]
  },
  {
   "cell_type": "code",
   "execution_count": 4,
   "metadata": {},
   "outputs": [],
   "source": [
    "from rasterio import mask"
   ]
  },
  {
   "cell_type": "code",
   "execution_count": 5,
   "metadata": {},
   "outputs": [
    {
     "ename": "ValueError",
     "evalue": "min() arg is an empty sequence",
     "output_type": "error",
     "traceback": [
      "\u001b[1;31m---------------------------------------------------------------------------\u001b[0m",
      "\u001b[1;31mValueError\u001b[0m                                Traceback (most recent call last)",
      "Cell \u001b[1;32mIn[5], line 3\u001b[0m\n\u001b[0;32m      1\u001b[0m \u001b[38;5;66;03m##返回裁剪后的栅格数据与地理参数\u001b[39;00m\n\u001b[0;32m      2\u001b[0m \u001b[38;5;66;03m##完成裁剪\u001b[39;00m\n\u001b[1;32m----> 3\u001b[0m rsimg_sub, rsimg_sub_trans \u001b[38;5;241m=\u001b[39m \u001b[43mmask\u001b[49m\u001b[38;5;241;43m.\u001b[39;49m\u001b[43mmask\u001b[49m\u001b[43m(\u001b[49m\u001b[43mrsimg_rio\u001b[49m\u001b[43m,\u001b[49m\u001b[43m \u001b[49m\u001b[43mvec_gdp_utm\u001b[49m\u001b[38;5;241;43m.\u001b[39;49m\u001b[43mgeometry\u001b[49m\u001b[43m,\u001b[49m\u001b[43m \u001b[49m\u001b[43mcrop\u001b[49m\u001b[43m \u001b[49m\u001b[38;5;241;43m=\u001b[39;49m\u001b[43m \u001b[49m\u001b[38;5;28;43;01mTrue\u001b[39;49;00m\u001b[43m,\u001b[49m\u001b[43m \u001b[49m\u001b[43mnodata\u001b[49m\u001b[43m \u001b[49m\u001b[38;5;241;43m=\u001b[39;49m\u001b[43m \u001b[49m\u001b[38;5;241;43m0\u001b[39;49m\u001b[43m)\u001b[49m\n\u001b[0;32m      4\u001b[0m \u001b[38;5;66;03m##可视化裁剪后栅格\u001b[39;00m\n",
      "File \u001b[1;32mD:\\miniconda\\lib\\site-packages\\rasterio\\mask.py:180\u001b[0m, in \u001b[0;36mmask\u001b[1;34m(dataset, shapes, all_touched, invert, nodata, filled, crop, pad, pad_width, indexes)\u001b[0m\n\u001b[0;32m    177\u001b[0m     \u001b[38;5;28;01melse\u001b[39;00m:\n\u001b[0;32m    178\u001b[0m         nodata \u001b[38;5;241m=\u001b[39m \u001b[38;5;241m0\u001b[39m\n\u001b[1;32m--> 180\u001b[0m shape_mask, transform, window \u001b[38;5;241m=\u001b[39m \u001b[43mraster_geometry_mask\u001b[49m\u001b[43m(\u001b[49m\n\u001b[0;32m    181\u001b[0m \u001b[43m    \u001b[49m\u001b[43mdataset\u001b[49m\u001b[43m,\u001b[49m\u001b[43m \u001b[49m\u001b[43mshapes\u001b[49m\u001b[43m,\u001b[49m\u001b[43m \u001b[49m\u001b[43mall_touched\u001b[49m\u001b[38;5;241;43m=\u001b[39;49m\u001b[43mall_touched\u001b[49m\u001b[43m,\u001b[49m\u001b[43m \u001b[49m\u001b[43minvert\u001b[49m\u001b[38;5;241;43m=\u001b[39;49m\u001b[43minvert\u001b[49m\u001b[43m,\u001b[49m\u001b[43m \u001b[49m\u001b[43mcrop\u001b[49m\u001b[38;5;241;43m=\u001b[39;49m\u001b[43mcrop\u001b[49m\u001b[43m,\u001b[49m\n\u001b[0;32m    182\u001b[0m \u001b[43m    \u001b[49m\u001b[43mpad\u001b[49m\u001b[38;5;241;43m=\u001b[39;49m\u001b[43mpad\u001b[49m\u001b[43m,\u001b[49m\u001b[43m \u001b[49m\u001b[43mpad_width\u001b[49m\u001b[38;5;241;43m=\u001b[39;49m\u001b[43mpad_width\u001b[49m\u001b[43m)\u001b[49m\n\u001b[0;32m    184\u001b[0m \u001b[38;5;28;01mif\u001b[39;00m indexes \u001b[38;5;129;01mis\u001b[39;00m \u001b[38;5;28;01mNone\u001b[39;00m:\n\u001b[0;32m    185\u001b[0m     out_shape \u001b[38;5;241m=\u001b[39m (dataset\u001b[38;5;241m.\u001b[39mcount, ) \u001b[38;5;241m+\u001b[39m shape_mask\u001b[38;5;241m.\u001b[39mshape\n",
      "File \u001b[1;32mD:\\miniconda\\lib\\site-packages\\rasterio\\mask.py:80\u001b[0m, in \u001b[0;36mraster_geometry_mask\u001b[1;34m(dataset, shapes, all_touched, invert, crop, pad, pad_width)\u001b[0m\n\u001b[0;32m     77\u001b[0m     pad_y \u001b[38;5;241m=\u001b[39m \u001b[38;5;241m0\u001b[39m\n\u001b[0;32m     79\u001b[0m \u001b[38;5;28;01mtry\u001b[39;00m:\n\u001b[1;32m---> 80\u001b[0m     window \u001b[38;5;241m=\u001b[39m \u001b[43mgeometry_window\u001b[49m\u001b[43m(\u001b[49m\u001b[43mdataset\u001b[49m\u001b[43m,\u001b[49m\u001b[43m \u001b[49m\u001b[43mshapes\u001b[49m\u001b[43m,\u001b[49m\u001b[43m \u001b[49m\u001b[43mpad_x\u001b[49m\u001b[38;5;241;43m=\u001b[39;49m\u001b[43mpad_x\u001b[49m\u001b[43m,\u001b[49m\u001b[43m \u001b[49m\u001b[43mpad_y\u001b[49m\u001b[38;5;241;43m=\u001b[39;49m\u001b[43mpad_y\u001b[49m\u001b[43m)\u001b[49m\n\u001b[0;32m     82\u001b[0m \u001b[38;5;28;01mexcept\u001b[39;00m WindowError:\n\u001b[0;32m     83\u001b[0m     \u001b[38;5;66;03m# If shapes do not overlap raster, raise Exception or UserWarning\u001b[39;00m\n\u001b[0;32m     84\u001b[0m     \u001b[38;5;66;03m# depending on value of crop\u001b[39;00m\n\u001b[0;32m     85\u001b[0m     \u001b[38;5;28;01mif\u001b[39;00m crop:\n",
      "File \u001b[1;32mD:\\miniconda\\lib\\site-packages\\rasterio\\features.py:494\u001b[0m, in \u001b[0;36mgeometry_window\u001b[1;34m(dataset, shapes, pad_x, pad_y, north_up, rotated, pixel_precision, boundless)\u001b[0m\n\u001b[0;32m    483\u001b[0m cols \u001b[38;5;241m=\u001b[39m [\n\u001b[0;32m    484\u001b[0m     x\n\u001b[0;32m    485\u001b[0m     \u001b[38;5;28;01mfor\u001b[39;00m (left, bottom, right, top) \u001b[38;5;129;01min\u001b[39;00m all_bounds\n\u001b[0;32m    486\u001b[0m     \u001b[38;5;28;01mfor\u001b[39;00m x \u001b[38;5;129;01min\u001b[39;00m (left \u001b[38;5;241m-\u001b[39m pad_x, right \u001b[38;5;241m+\u001b[39m pad_x, right \u001b[38;5;241m+\u001b[39m pad_x, left \u001b[38;5;241m-\u001b[39m pad_x)\n\u001b[0;32m    487\u001b[0m ]\n\u001b[0;32m    488\u001b[0m rows \u001b[38;5;241m=\u001b[39m [\n\u001b[0;32m    489\u001b[0m     y\n\u001b[0;32m    490\u001b[0m     \u001b[38;5;28;01mfor\u001b[39;00m (left, bottom, right, top) \u001b[38;5;129;01min\u001b[39;00m all_bounds\n\u001b[0;32m    491\u001b[0m     \u001b[38;5;28;01mfor\u001b[39;00m y \u001b[38;5;129;01min\u001b[39;00m (top \u001b[38;5;241m-\u001b[39m pad_y, top \u001b[38;5;241m-\u001b[39m pad_y, bottom \u001b[38;5;241m+\u001b[39m pad_y, bottom \u001b[38;5;241m+\u001b[39m pad_y)\n\u001b[0;32m    492\u001b[0m ]\n\u001b[1;32m--> 494\u001b[0m row_start, row_stop \u001b[38;5;241m=\u001b[39m \u001b[38;5;28mint\u001b[39m(math\u001b[38;5;241m.\u001b[39mfloor(\u001b[38;5;28;43mmin\u001b[39;49m\u001b[43m(\u001b[49m\u001b[43mrows\u001b[49m\u001b[43m)\u001b[49m)), \u001b[38;5;28mint\u001b[39m(math\u001b[38;5;241m.\u001b[39mceil(\u001b[38;5;28mmax\u001b[39m(rows)))\n\u001b[0;32m    495\u001b[0m col_start, col_stop \u001b[38;5;241m=\u001b[39m \u001b[38;5;28mint\u001b[39m(math\u001b[38;5;241m.\u001b[39mfloor(\u001b[38;5;28mmin\u001b[39m(cols))), \u001b[38;5;28mint\u001b[39m(math\u001b[38;5;241m.\u001b[39mceil(\u001b[38;5;28mmax\u001b[39m(cols)))\n\u001b[0;32m    497\u001b[0m window \u001b[38;5;241m=\u001b[39m Window(\n\u001b[0;32m    498\u001b[0m     col_off\u001b[38;5;241m=\u001b[39mcol_start,\n\u001b[0;32m    499\u001b[0m     row_off\u001b[38;5;241m=\u001b[39mrow_start,\n\u001b[0;32m    500\u001b[0m     width\u001b[38;5;241m=\u001b[39m\u001b[38;5;28mmax\u001b[39m(col_stop \u001b[38;5;241m-\u001b[39m col_start, \u001b[38;5;241m0.0\u001b[39m),\n\u001b[0;32m    501\u001b[0m     height\u001b[38;5;241m=\u001b[39m\u001b[38;5;28mmax\u001b[39m(row_stop \u001b[38;5;241m-\u001b[39m row_start, \u001b[38;5;241m0.0\u001b[39m),\n\u001b[0;32m    502\u001b[0m )\n",
      "\u001b[1;31mValueError\u001b[0m: min() arg is an empty sequence"
     ]
    }
   ],
   "source": [
    "##返回裁剪后的栅格数据与地理参数\n",
    "##完成裁剪\n",
    "rsimg_sub, rsimg_sub_trans = mask.mask(rsimg_rio, vec_gdp_utm.geometry, crop = True, nodata = 0)\n",
    "##可视化裁剪后栅格\n"
   ]
  },
  {
   "cell_type": "code",
   "execution_count": null,
   "metadata": {},
   "outputs": [],
   "source": [
    "fig, ax = plt.subplots(1,2,figsize = (10, 5))\n",
    "vec_gdp_utm.plot(ax=ax[0])\n",
    "ax[1].imshow(rsimg_sub[0],vmin=0, vmax = 3000)\n"
   ]
  },
  {
   "cell_type": "code",
   "execution_count": null,
   "metadata": {},
   "outputs": [],
   "source": [
    "path_subset = \"E:\\开源\\cg_20_subset.tif\"\n",
    "##写出数据：读、写都是open，裁剪后宽高变了，地理转换参数也变了(地理转换参数包括空间分辨率、角点坐标，其中角点坐标变了)\n",
    "out_meta = rsimg_rio.meta\n",
    "out_meta.update({\n",
    "    'driver':'GTiff',\n",
    "    'height':rsimg_sub.shape[1],\n",
    "    'width':rsimg_sub.shape[2],\n",
    "    'transform': rsimg_sub_trans\n",
    "})\n",
    "with rio.open(path_subset , 'w', **out_meta) as dset:\n",
    "    dset.write(rsimg_sub)"
   ]
  },
  {
   "cell_type": "code",
   "execution_count": null,
   "metadata": {},
   "outputs": [],
   "source": [
    "##像刚刚一样再裁剪一幅相邻影像"
   ]
  },
  {
   "cell_type": "code",
   "execution_count": null,
   "metadata": {},
   "outputs": [],
   "source": [
    "path_subset1 = \"E:\\开源\\cg_20_subset.tif\"\n",
    "path_subset2 = \"E:\\开源\\cg_20_subset2.tif\""
   ]
  },
  {
   "cell_type": "code",
   "execution_count": null,
   "metadata": {},
   "outputs": [],
   "source": [
    "##读入：\n",
    "subs1_rio = rio.open(path_subset1)\n",
    "subs2_rio = rio.open(path_subset2)\n"
   ]
  },
  {
   "cell_type": "code",
   "execution_count": null,
   "metadata": {},
   "outputs": [],
   "source": [
    "subs1_rio.meta\n",
    "subs2_rio.meta\n",
    "##确认投影一致"
   ]
  },
  {
   "cell_type": "code",
   "execution_count": null,
   "metadata": {},
   "outputs": [],
   "source": [
    "from rasterio.merge import merge\n",
    "##拼接后的影像与其转换参数：\n",
    "mosaic,out_trans = merge([subs1_rio, subs2_rio])"
   ]
  },
  {
   "cell_type": "code",
   "execution_count": null,
   "metadata": {},
   "outputs": [],
   "source": [
    "fig, ax = plt.subplots(1, 3, figsize = (10, 4))\n",
    "ax[0].imshow(subs1_rio.read(1), vmin = 0, vamx = 3000)\n",
    "ax[1].imshow(subs2_rio.read(1), vmin = 0, vamx = 3000)\n",
    "ax[2].imshow(mosaic[0], vmin = 0, vamx = 3000)"
   ]
  }
 ],
 "metadata": {
  "kernelspec": {
   "display_name": "base",
   "language": "python",
   "name": "python3"
  },
  "language_info": {
   "codemirror_mode": {
    "name": "ipython",
    "version": 3
   },
   "file_extension": ".py",
   "mimetype": "text/x-python",
   "name": "python",
   "nbconvert_exporter": "python",
   "pygments_lexer": "ipython3",
   "version": "3.9.18"
  }
 },
 "nbformat": 4,
 "nbformat_minor": 2
}
