{
 "cells": [
  {
   "cell_type": "code",
   "execution_count": 1,
   "metadata": {},
   "outputs": [],
   "source": [
    "from osgeo import gdal"
   ]
  },
  {
   "cell_type": "code",
   "execution_count": 2,
   "metadata": {},
   "outputs": [],
   "source": [
    "path_rsimg = 'E:\\开源\\chenggong_tif.tif'\n",
    "path_vec = 'E:\\开源\\gdal6.shp'\n",
    "path_subs = 'E:\\开源\\gdal6_cj.shp'"
   ]
  },
  {
   "cell_type": "code",
   "execution_count": 4,
   "metadata": {},
   "outputs": [],
   "source": [
    "dset_rsimg_subs = gdal.Warp(srcDSOrSrcDSTab=path_rsimg,\n",
    "                            destNameOrDestDS=path_subs,\n",
    "                            cutlineDSName=path_vec,\n",
    "                            dstNodata=0)\n",
    "dset_rsimg_subs = None"
   ]
  },
  {
   "cell_type": "code",
   "execution_count": 9,
   "metadata": {},
   "outputs": [
    {
     "name": "stdout",
     "output_type": "stream",
     "text": [
      "Input file size is 2980, 3261\n",
      "0...10...20...30...40...50...60...70...80...90...100 - done.\n"
     ]
    },
    {
     "name": "stderr",
     "output_type": "stream",
     "text": [
      "Warning 1: PROJ: proj_create_from_database: D:\\Program Files\\PostgreSQL\\share\\contrib\\postgis-3.2\\proj\\proj.db contains DATABASE.LAYOUT.VERSION.MINOR = 0 whereas a number >= 2 is expected. It comes from another PROJ installation.\n",
      "Warning 1: The definition of projected CRS EPSG:32647 got from GeoTIFF keys is not the same as the one from the EPSG registry, which may cause issues during reprojection operations. Set GTIFF_SRS_SOURCE configuration option to EPSG to use official parameters (overriding the ones from GeoTIFF keys), or to GEOKEYS to use custom values from GeoTIFF keys and drop the EPSG code.\n",
      "ERROR 1: PROJ: proj_create_from_name: D:\\Program Files\\PostgreSQL\\share\\contrib\\postgis-3.2\\proj\\proj.db contains DATABASE.LAYOUT.VERSION.MINOR = 0 whereas a number >= 2 is expected. It comes from another PROJ installation.\n"
     ]
    }
   ],
   "source": [
    "path_in ='E:\\开源\\chenggong_tif.tif'\n",
    "path_out ='E:\\开源\\chenggong_tif_50.tif'\n",
    "path_out2 ='E:\\开源\\chenggong_tif_150.tif'\n",
    "##包含了要裁剪范围的左上角的角点坐标与右下角的角点坐标\n",
    "extent = '280040 2748951 283417 2746525'\n",
    "path_out3 ='E:\\开源\\cj.tif'\n",
    "##!gdal_translate -tr 50 50 -r average $path_in $path_out\n",
    "##!gdal_translate -outsize 150 150 -r average $path_in $path_out2\n",
    "!gdal_translate -tr 50 50 -projwin $extent $path_in $path_out3"
   ]
  },
  {
   "cell_type": "code",
   "execution_count": 10,
   "metadata": {},
   "outputs": [
    {
     "name": "stdout",
     "output_type": "stream",
     "text": [
      "Usage: gdalwarp [--help-general] [--formats]\n",
      "    [-s_srs srs_def] [-t_srs srs_def] [-to \"NAME=VALUE\"]* [-vshift | -novshift]\n",
      "    [[-s_coord_epoch epoch] | [-t_coord_epoch epoch]]\n",
      "    [-order n | -tps | -rpc | -geoloc] [-et err_threshold]\n",
      "    [-refine_gcps tolerance [minimum_gcps]]\n",
      "    [-te xmin ymin xmax ymax] [-tr xres yres] [-tap] [-ts width height]\n",
      "    [-ovr level|AUTO|AUTO-n|NONE] [-wo \"NAME=VALUE\"] [-ot Byte/Int16/...] [-wt Byte/Int16]\n",
      "    [-srcnodata \"value [value...]\"] [-dstnodata \"value [value...]\"] -dstalpha\n",
      "    [-r resampling_method] [-wm memory_in_mb] [-multi] [-q]\n",
      "    [-cutline datasource] [-cl layer] [-cwhere expression]\n",
      "    [-csql statement] [-cblend dist_in_pixels] [-crop_to_cutline]\n",
      "    [-if format]* [-of format] [-co \"NAME=VALUE\"]* [-overwrite]\n",
      "    [-nomd] [-cvmd meta_conflict_value] [-setci] [-oo NAME=VALUE]*\n",
      "    [-doo NAME=VALUE]*\n",
      "    srcfile* dstfile\n",
      "\n",
      "Available resampling methods:\n",
      "    near (default), bilinear, cubic, cubicspline, lanczos, average, rms,\n",
      "    mode,  max, min, med, Q1, Q3, sum.\n"
     ]
    },
    {
     "name": "stderr",
     "output_type": "stream",
     "text": [
      "ERROR 6: Unknown option name '-s'\n"
     ]
    }
   ],
   "source": [
    "path_in ='E:\\开源\\chenggong_tif.tif'\n",
    "path_out ='E:\\开源\\chenggong_tif_resam.tif'\n",
    "!gdalwarp -s srs EPSG:32647 -t srs EPSG:4326 -r bilinear $path_in $path_out\n"
   ]
  },
  {
   "cell_type": "code",
   "execution_count": 11,
   "metadata": {},
   "outputs": [],
   "source": [
    "##栅格转矢量"
   ]
  },
  {
   "cell_type": "code",
   "execution_count": 3,
   "metadata": {},
   "outputs": [],
   "source": [
    "path_in = 'E:\\WatNet\\data\\test-demo\\water_map.tif'\n",
    "path_vec = 'E:\\开源\\water_map.gpkg'\n",
    "!gdal_polygonize.py $path_in $path_vec"
   ]
  },
  {
   "cell_type": "code",
   "execution_count": 13,
   "metadata": {},
   "outputs": [],
   "source": [
    "##栅格转矢量"
   ]
  },
  {
   "cell_type": "code",
   "execution_count": 2,
   "metadata": {},
   "outputs": [
    {
     "name": "stderr",
     "output_type": "stream",
     "text": [
      "'gdal_rasterize' �����ڲ����ⲿ���Ҳ���ǿ����еĳ���\n",
      "���������ļ���\n"
     ]
    }
   ],
   "source": [
    "path_vec = 'E:\\开源\\water_map.gpkg'\n",
    "path_raster = 'E:\\WatNet\\data\\test-demo\\water_map.tif'\n",
    "!gdal_rasterize -ts 1000 1000 -burn 10 $path_vec $path_raster"
   ]
  },
  {
   "cell_type": "code",
   "execution_count": null,
   "metadata": {},
   "outputs": [],
   "source": []
  }
 ],
 "metadata": {
  "kernelspec": {
   "display_name": "base",
   "language": "python",
   "name": "python3"
  },
  "language_info": {
   "codemirror_mode": {
    "name": "ipython",
    "version": 3
   },
   "file_extension": ".py",
   "mimetype": "text/x-python",
   "name": "python",
   "nbconvert_exporter": "python",
   "pygments_lexer": "ipython3",
   "version": "3.9.18"
  }
 },
 "nbformat": 4,
 "nbformat_minor": 2
}
