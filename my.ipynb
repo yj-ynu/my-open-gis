{
 "cells": [
  {
   "cell_type": "code",
   "execution_count": 1,
   "metadata": {},
   "outputs": [],
   "source": [
    "import numpy as np"
   ]
  },
  {
   "cell_type": "code",
   "execution_count": 2,
   "metadata": {},
   "outputs": [],
   "source": [
    "from osgeo import ogr"
   ]
  },
  {
   "cell_type": "code",
   "execution_count": 3,
   "metadata": {},
   "outputs": [],
   "source": [
    "from osgeo import gdal"
   ]
  },
  {
   "cell_type": "code",
   "execution_count": 4,
   "metadata": {},
   "outputs": [],
   "source": [
    "path_neijiang ='E:\\\\开源\\\\HW3\\\\neijiang.shp'\n",
    "path_out = 'E:\\\\开源\\\\HW3\\\\neijiang_utm48.shp'"
   ]
  },
  {
   "cell_type": "code",
   "execution_count": 5,
   "metadata": {},
   "outputs": [
    {
     "name": "stdout",
     "output_type": "stream",
     "text": [
      "<osgeo.osr.CoordinateTransformation; proxy of <Swig Object of type 'OSRCoordinateTransformationShadow *' at 0x000001C14720C300> >\n"
     ]
    },
    {
     "ename": "AttributeError",
     "evalue": "'Layer' object has no attribute 'GetlayerDefn'",
     "output_type": "error",
     "traceback": [
      "\u001b[1;31m---------------------------------------------------------------------------\u001b[0m",
      "\u001b[1;31mAttributeError\u001b[0m                            Traceback (most recent call last)",
      "Cell \u001b[1;32mIn[5], line 25\u001b[0m\n\u001b[0;32m     22\u001b[0m     field_defn \u001b[38;5;241m=\u001b[39m in_layer\u001b[38;5;241m.\u001b[39mGetFeature(\u001b[38;5;241m1\u001b[39m)\u001b[38;5;241m.\u001b[39mGetFieldDefnRef(i)\n\u001b[0;32m     23\u001b[0m     out_layer\u001b[38;5;241m.\u001b[39mCreateField(field_defn)\n\u001b[1;32m---> 25\u001b[0m fea_defn \u001b[38;5;241m=\u001b[39m \u001b[43min_layer\u001b[49m\u001b[38;5;241;43m.\u001b[39;49m\u001b[43mGetlayerDefn\u001b[49m()\n\u001b[0;32m     26\u001b[0m \u001b[38;5;28;01mfor\u001b[39;00m i \u001b[38;5;129;01min\u001b[39;00m \u001b[38;5;28mrange\u001b[39m(in_layer\u001b[38;5;241m.\u001b[39mGetFeatureCount()):\n\u001b[0;32m     27\u001b[0m     in_fea \u001b[38;5;241m=\u001b[39m in_layer\u001b[38;5;241m.\u001b[39mGetFeature(i\u001b[38;5;241m+\u001b[39m\u001b[38;5;241m1\u001b[39m)\n",
      "\u001b[1;31mAttributeError\u001b[0m: 'Layer' object has no attribute 'GetlayerDefn'"
     ]
    }
   ],
   "source": [
    "utm_epsg = 32648 \n",
    "## 326：北半球，48：48°带 327：南半球\n",
    "## 投影空间转换的步骤：\n",
    "## 1.读入矢量数据 \n",
    "in_ds = ogr.Open(path_neijiang)\n",
    "in_layer = in_ds.GetLayer(0)\n",
    "## 2.创建新的空间参考\n",
    "utm_srs = ogr.osr.SpatialReference()\n",
    "utm_srs.ImportFromEPSG(utm_epsg)\n",
    "## 3.创建写出数据及其矢量图层\n",
    "driver = ogr.GetDriverByName('ESRI shapefile')\n",
    "out_ds = driver.CreateDataSource(path_out)\n",
    "out_layer = out_ds.CreateLayer('neijiang_utm48',\\\n",
    "                               geom_type=ogr.wkbPolygon,\\\n",
    "                                srs=utm_srs)\n",
    "## 4.创建转换对象，并进行投影转换\n",
    "spatialRef = in_layer.GetSpatialRef()\n",
    "cor_transform = ogr.osr.CoordinateTransformation(spatialRef,utm_srs)\n",
    "print(cor_transform)\n",
    "\n",
    "for i in range(in_layer.GetFeature(1).GetFieldCount()):\n",
    "    field_defn = in_layer.GetFeature(1).GetFieldDefnRef(i)\n",
    "    out_layer.CreateField(field_defn)\n",
    "\n",
    "fea_defn = in_layer.GetlayerDefn()\n",
    "for i in range(in_layer.GetFeatureCount()):\n",
    "    in_fea = in_layer.GetFeature(i+1)\n",
    "    in_geo = in_fea.geometry()\n",
    "    in_geo.Transform(cor_transform)\n",
    "    out_fea = ogr.Feature(fea_defn)\n",
    "    out_fea.SetFeometry(in_geo)\n",
    "    ##遍历原先要素的字段值写入新要素中：\n",
    "    for j in range(fea_defn.GetFieldCount()):\n",
    "        field_value = in_fea.GetField(j)\n",
    "        out_fea.SetField(j,field_value)\n",
    "    out_layer.CreateFeature(out_fea)\n",
    "\n",
    "ds = None\n",
    "out_ds = None"
   ]
  },
  {
   "cell_type": "code",
   "execution_count": null,
   "metadata": {},
   "outputs": [],
   "source": [
    "utm_epsg=32648\n",
    "##读入\n",
    "in_ds=ogr.Open(path_neijiang)\n",
    "in_layer=in_ds.GetLayer(0)\n",
    "\n",
    "##创建新的空间参考prepare\n",
    "utm_srs=ogr.osr.SpatialReference()#定义utm空间参考\n",
    "utm_srs.ImportEPSG()\n",
    "\n",
    "##创建写出数据及写出数据的新图层！！！空的矢量图层\n",
    "driver=ogr.GetDriverByName('GPKG')\n",
    "out_ds=driver.Create\n",
    "out_layer=out_ds.CrearLater('',geom_type=ogr.wkPlogyon,\\\n",
    "                            srs=utm_srs)#buc\n",
    "\n",
    "##对原始数据的要素投影转换，建立新对象，进行投影转换\n",
    "spatialRef=in_layer.GetSpatialRef()\n",
    "cor_transform=ogr.osr.CoordinateTransformation(spatialRef,utm_srs)\n",
    "print(cor_transform)\n",
    "\n",
    "for i in range(in_layer.GetFeature(1).GetFieldCount()):\n",
    "    field_defn=in_layer.GetFeature(i).GetFieldRef(i)\n",
    "    out_layer.CreateField(field_defn)\n",
    "##对原始投影转换\n",
    "fea_defn=in_layer.GetLayerDefn()\n",
    "for i in range(in_layer.GerfeatureCount()):\n",
    "    in_fea=in_layer.GetFeature(i+1)\n",
    "    in_geo=in_fea.geometry()#提取要素几何\n",
    "    #out_geo=in_geo.Transforms(cor_transform)#调用函数--原位调用\n",
    "    in_geo.Transforms(cor_transform)\n",
    "    out_fea=ogr.Feature()#new feature\n",
    "    out_fea.SetGeometry(out)\n",
    "    for i in range(fea_defn.GetFieldCount()):\n",
    "        field_value=in_fea.GetField(j)#提取字段值\n",
    "        out_fea.SerField(j,field_value)#索引加字段值\n",
    "ds=None\n",
    "out_ds=None#关闭"
   ]
  },
  {
   "cell_type": "code",
   "execution_count": 6,
   "metadata": {},
   "outputs": [],
   "source": [
    "path = 'E:\\\\开源\\\\HW3\\\\neijiang.gpkg'"
   ]
  },
  {
   "cell_type": "code",
   "execution_count": 10,
   "metadata": {},
   "outputs": [],
   "source": [
    "##删除字段，运行后在QGIS中查看是否运行成功\n",
    "de = ogr.Open(path,1)\n",
    "layer = ds.GetLayer(0)\n",
    "id_field = layer.GetFeature(1).GetFieldIndex('dt_adcode')\n",
    "layer.DeleteField(id_field)\n",
    "de = None"
   ]
  },
  {
   "cell_type": "code",
   "execution_count": 14,
   "metadata": {},
   "outputs": [
    {
     "ename": "AttributeError",
     "evalue": "'NoneType' object has no attribute 'GetLayer'",
     "output_type": "error",
     "traceback": [
      "\u001b[1;31m---------------------------------------------------------------------------\u001b[0m",
      "\u001b[1;31mAttributeError\u001b[0m                            Traceback (most recent call last)",
      "Cell \u001b[1;32mIn[14], line 3\u001b[0m\n\u001b[0;32m      1\u001b[0m \u001b[38;5;66;03m##创建字段\u001b[39;00m\n\u001b[0;32m      2\u001b[0m ds \u001b[38;5;241m=\u001b[39m ogr\u001b[38;5;241m.\u001b[39mOpen(path,\u001b[38;5;241m1\u001b[39m)\n\u001b[1;32m----> 3\u001b[0m layer \u001b[38;5;241m=\u001b[39m \u001b[43mde\u001b[49m\u001b[38;5;241;43m.\u001b[39;49m\u001b[43mGetLayer\u001b[49m(\u001b[38;5;241m0\u001b[39m)\n\u001b[0;32m      4\u001b[0m field_defn \u001b[38;5;241m=\u001b[39m ogr\u001b[38;5;241m.\u001b[39mFieldDrfn(\u001b[38;5;124m'\u001b[39m\u001b[38;5;124mArea(km2)\u001b[39m\u001b[38;5;124m'\u001b[39m,ogr\u001b[38;5;241m.\u001b[39mOFTReal)\n\u001b[0;32m      5\u001b[0m layer\u001b[38;5;241m.\u001b[39mCreateField(field_defn)\n",
      "\u001b[1;31mAttributeError\u001b[0m: 'NoneType' object has no attribute 'GetLayer'"
     ]
    }
   ],
   "source": [
    "##创建字段\n",
    "ds = ogr.Open(path,1)\n",
    "layer = de.GetLayer(0)\n",
    "field_defn = ogr.FieldDrfn('Area(km2)',ogr.OFTReal)\n",
    "layer.CreateField(field_defn)\n",
    "##以上创建好字段，但只有字段名，没有各个值\n",
    "area_dt,name_dt = [],[]\n",
    "for i in range(layer.GetFeatureCount()):\n",
    "    fea = layer.GetFeature(i+1)\n",
    "    fea_area = fea.geometry().Area()\n",
    "    fea_area = fea_area/1000000\n",
    "    area_dt.append(fea_area)\n",
    "    fea_name = fea.GetField('dt_name')\n",
    "    name_dt.append(fea_name)\n",
    "    print(fea_area)\n",
    "    fea.SetField('Area(km2)',fea_area)\n",
    "    layer.SetFeature(fea)\n",
    "ds = None"
   ]
  },
  {
   "cell_type": "code",
   "execution_count": 12,
   "metadata": {},
   "outputs": [
    {
     "ename": "AttributeError",
     "evalue": "module 'osgeo.ogr' has no attribute 'GeatDriverByName'",
     "output_type": "error",
     "traceback": [
      "\u001b[1;31m---------------------------------------------------------------------------\u001b[0m",
      "\u001b[1;31mAttributeError\u001b[0m                            Traceback (most recent call last)",
      "Cell \u001b[1;32mIn[12], line 7\u001b[0m\n\u001b[0;32m      5\u001b[0m \u001b[38;5;66;03m##生成驱动\u001b[39;00m\n\u001b[0;32m      6\u001b[0m in_SpatialRef \u001b[38;5;241m=\u001b[39m in_layer\u001b[38;5;241m.\u001b[39mGetSpatialRef()\n\u001b[1;32m----> 7\u001b[0m driver \u001b[38;5;241m=\u001b[39m \u001b[43mogr\u001b[49m\u001b[38;5;241;43m.\u001b[39;49m\u001b[43mGeatDriverByName\u001b[49m(\u001b[38;5;124m'\u001b[39m\u001b[38;5;124mGPKG\u001b[39m\u001b[38;5;124m'\u001b[39m)\n\u001b[0;32m      8\u001b[0m out_ds \u001b[38;5;241m=\u001b[39m driver\u001b[38;5;241m.\u001b[39mCreateDataSource(\u001b[38;5;124m'\u001b[39m\u001b[38;5;124m##看视频\u001b[39m\u001b[38;5;124m'\u001b[39m)\n\u001b[0;32m     11\u001b[0m out_ds \u001b[38;5;241m=\u001b[39m driver\u001b[38;5;241m.\u001b[39mCreateLayer(\u001b[38;5;124m'\u001b[39m\u001b[38;5;124mkunming_utm48_centroid\u001b[39m\u001b[38;5;124m'\u001b[39m,\\\n\u001b[0;32m     12\u001b[0m                             geom_type\u001b[38;5;241m=\u001b[39mogr\u001b[38;5;241m.\u001b[39mwkbPoint,\\\n\u001b[0;32m     13\u001b[0m                                 srs\u001b[38;5;241m=\u001b[39min_SpatialRef)\n",
      "\u001b[1;31mAttributeError\u001b[0m: module 'osgeo.ogr' has no attribute 'GeatDriverByName'"
     ]
    }
   ],
   "source": [
    "##根据已有的矢量面数据，生成面中心点矢量\n",
    "path_dian = ''\n",
    "in_ds\n",
    "\n",
    "##生成驱动\n",
    "in_SpatialRef = in_layer.GetSpatialRef()\n",
    "driver = ogr.GeatDriverByName('GPKG')\n",
    "out_ds = driver.CreateDataSource('##看视频')\n",
    "\n",
    "\n",
    "out_ds = driver.CreateLayer('kunming_utm48_centroid',\\\n",
    "                            geom_type=ogr.wkbPoint,\\\n",
    "                                srs=in_SpatialRef)\n",
    "\n",
    "field_defn = ogr.FieldDefn('fid',ogr.OFTInteger)\n",
    "out_layer.CreateField(field_defn)\n",
    "\n",
    "out_fea_defn = out_layer.GetLayerDefn()\n",
    "\n",
    "for i in range(in_layer.GetFeatureCount()):\n",
    "    in_fea = in_layer.GetFeature(i+1)\n",
    "    out_geo = in_fea.geometry().Centroid()\n",
    "    ##运行错误后通常需要先删除生成文件再生成"
   ]
  },
  {
   "cell_type": "code",
   "execution_count": null,
   "metadata": {},
   "outputs": [],
   "source": [
    "(103.837,24.832),(102.842,24.836),(102.849,24.836),(102.864,24.828),(102.855,24.826),(102.845,24.821),(102.837,24.832)"
   ]
  },
  {
   "cell_type": "code",
   "execution_count": 7,
   "metadata": {},
   "outputs": [],
   "source": [
    "path_ynu = 'E:\\开源\\ynu\\ynu_vec.gpkg'\n",
    "ynu_wkt = \"POLYGON((102.837 24.832,102.842 24.836,102.849 24.836,102.864 24.828,102.855 24.826,102.845 24.821,102.837 24.832))\"\n",
    "geo_ynu = ogr.CreateGeometryFromWkt(ynu_wkt)\n",
    "geo_ynu\n",
    "\n",
    "spatialRef = ogr.osr.SpatialReference()\n",
    "spatialRef.ImportFromEPSG(4326)\n",
    "\n",
    "driver = ogr.GetDriverByName('GPKG')\n",
    "ds_ynu = driver.CreateDataSource(path_ynu)\n",
    "layer_ynu = ds_ynu.CreateLayer('ynu_vec',srs=spatialRef,geom_type=ogr.wkbPolygon)\n",
    "field_defn = ogr.FieldDefn('fid',ogr.OFTInteger)\n",
    "layer_ynu.CreateField(field_defn)\n",
    "\n",
    "fea_defn = layer_ynu.GetLayerDefn()\n",
    "fea_ynu = ogr.Feature(fea_defn)\n",
    "fea_ynu.SetField('fid',1)\n",
    "fea_ynu.SetGeometry(geo_ynu)\n",
    "layer_ynu.CreateFeature(fea_ynu)\n",
    "ds_ynu = None"
   ]
  }
 ],
 "metadata": {
  "kernelspec": {
   "display_name": "base",
   "language": "python",
   "name": "python3"
  },
  "language_info": {
   "codemirror_mode": {
    "name": "ipython",
    "version": 3
   },
   "file_extension": ".py",
   "mimetype": "text/x-python",
   "name": "python",
   "nbconvert_exporter": "python",
   "pygments_lexer": "ipython3",
   "version": "3.9.18"
  }
 },
 "nbformat": 4,
 "nbformat_minor": 2
}
