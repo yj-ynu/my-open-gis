{
 "cells": [
  {
   "cell_type": "code",
   "execution_count": 1,
   "metadata": {},
   "outputs": [],
   "source": [
    "##Warp()函数快速处理\n",
    "from osgeo import gdal, osr"
   ]
  },
  {
   "cell_type": "code",
   "execution_count": 2,
   "metadata": {},
   "outputs": [
    {
     "ename": "TypeError",
     "evalue": "in method 'wrapper_GDALWarpDestName', argument 4 of type 'GDALWarpAppOptions *'",
     "output_type": "error",
     "traceback": [
      "\u001b[1;31m---------------------------------------------------------------------------\u001b[0m",
      "\u001b[1;31mTypeError\u001b[0m                                 Traceback (most recent call last)",
      "Cell \u001b[1;32mIn[2], line 4\u001b[0m\n\u001b[0;32m      2\u001b[0m path_reproj\u001b[38;5;241m=\u001b[39m \u001b[38;5;124m'\u001b[39m\u001b[38;5;124mE:\u001b[39m\u001b[38;5;124m\\\u001b[39m\u001b[38;5;124m开源\u001b[39m\u001b[38;5;124m\\\u001b[39m\u001b[38;5;124mchenggong_tif_wgs_2.tif\u001b[39m\u001b[38;5;124m'\u001b[39m\n\u001b[0;32m      3\u001b[0m \u001b[38;5;66;03m##reproj是在gdal.ipynb中完成utm转wgs84的图像\u001b[39;00m\n\u001b[1;32m----> 4\u001b[0m warp_reproj \u001b[38;5;241m=\u001b[39m \u001b[43mgdal\u001b[49m\u001b[38;5;241;43m.\u001b[39;49m\u001b[43mWarp\u001b[49m\u001b[43m(\u001b[49m\u001b[43msrcDSOrSrcDSTab\u001b[49m\u001b[38;5;241;43m=\u001b[39;49m\u001b[43mpath_img\u001b[49m\u001b[43m,\u001b[49m\u001b[43m\\\u001b[49m\n\u001b[0;32m      5\u001b[0m \u001b[43m    \u001b[49m\u001b[43mdestNameOrDestDS\u001b[49m\u001b[38;5;241;43m=\u001b[39;49m\u001b[43m \u001b[49m\u001b[43mpath_reproj\u001b[49m\u001b[43m,\u001b[49m\u001b[43m\\\u001b[49m\n\u001b[0;32m      6\u001b[0m \u001b[43m        \u001b[49m\u001b[43mdstSRS\u001b[49m\u001b[43m \u001b[49m\u001b[38;5;241;43m=\u001b[39;49m\u001b[38;5;124;43m'\u001b[39;49m\u001b[38;5;124;43mEPSG:4326\u001b[39;49m\u001b[38;5;124;43m'\u001b[39;49m\u001b[43m)\u001b[49m\n\u001b[0;32m      7\u001b[0m warp_reproj \u001b[38;5;241m=\u001b[39m \u001b[38;5;28;01mNone\u001b[39;00m\n",
      "File \u001b[1;32mD:\\miniconda\\lib\\site-packages\\osgeo\\gdal.py:788\u001b[0m, in \u001b[0;36mWarp\u001b[1;34m(destNameOrDestDS, srcDSOrSrcDSTab, **kwargs)\u001b[0m\n\u001b[0;32m    785\u001b[0m     srcDSTab \u001b[38;5;241m=\u001b[39m [srcDSOrSrcDSTab]\n\u001b[0;32m    787\u001b[0m \u001b[38;5;28;01mif\u001b[39;00m \u001b[38;5;28misinstance\u001b[39m(destNameOrDestDS, \u001b[38;5;28mstr\u001b[39m):\n\u001b[1;32m--> 788\u001b[0m     \u001b[38;5;28;01mreturn\u001b[39;00m \u001b[43mwrapper_GDALWarpDestName\u001b[49m\u001b[43m(\u001b[49m\u001b[43mdestNameOrDestDS\u001b[49m\u001b[43m,\u001b[49m\u001b[43m \u001b[49m\u001b[43msrcDSTab\u001b[49m\u001b[43m,\u001b[49m\u001b[43m \u001b[49m\u001b[43mopts\u001b[49m\u001b[43m,\u001b[49m\u001b[43m \u001b[49m\u001b[43mcallback\u001b[49m\u001b[43m,\u001b[49m\u001b[43m \u001b[49m\u001b[43mcallback_data\u001b[49m\u001b[43m)\u001b[49m\n\u001b[0;32m    789\u001b[0m \u001b[38;5;28;01melse\u001b[39;00m:\n\u001b[0;32m    790\u001b[0m     \u001b[38;5;28;01mreturn\u001b[39;00m wrapper_GDALWarpDestDS(destNameOrDestDS, srcDSTab, opts, callback, callback_data)\n",
      "File \u001b[1;32mD:\\miniconda\\lib\\site-packages\\osgeo\\gdal.py:4815\u001b[0m, in \u001b[0;36mwrapper_GDALWarpDestName\u001b[1;34m(*args)\u001b[0m\n\u001b[0;32m   4813\u001b[0m \u001b[38;5;28;01mdef\u001b[39;00m \u001b[38;5;21mwrapper_GDALWarpDestName\u001b[39m(\u001b[38;5;241m*\u001b[39margs) \u001b[38;5;241m-\u001b[39m\u001b[38;5;241m>\u001b[39m \u001b[38;5;124m\"\u001b[39m\u001b[38;5;124mGDALDatasetShadow *\u001b[39m\u001b[38;5;124m\"\u001b[39m:\n\u001b[0;32m   4814\u001b[0m \u001b[38;5;250m    \u001b[39m\u001b[38;5;124mr\u001b[39m\u001b[38;5;124;03m\"\"\"wrapper_GDALWarpDestName(char const * dest, int object_list_count, GDALWarpAppOptions warpAppOptions, GDALProgressFunc callback=0, void * callback_data=None) -> Dataset\"\"\"\u001b[39;00m\n\u001b[1;32m-> 4815\u001b[0m     \u001b[38;5;28;01mreturn\u001b[39;00m \u001b[43m_gdal\u001b[49m\u001b[38;5;241;43m.\u001b[39;49m\u001b[43mwrapper_GDALWarpDestName\u001b[49m\u001b[43m(\u001b[49m\u001b[38;5;241;43m*\u001b[39;49m\u001b[43margs\u001b[49m\u001b[43m)\u001b[49m\n",
      "\u001b[1;31mTypeError\u001b[0m: in method 'wrapper_GDALWarpDestName', argument 4 of type 'GDALWarpAppOptions *'"
     ]
    }
   ],
   "source": [
    "path_img = 'E:\\开源\\chenggong_tif.tif'\n",
    "path_reproj= 'E:\\开源\\chenggong_tif_wgs_2.tif'\n",
    "##reproj是在gdal.ipynb中完成utm转wgs84的图像\n",
    "warp_reproj = gdal.Warp(srcDSOrSrcDSTab=path_img,\\\n",
    "    destNameOrDestDS= path_reproj,\\\n",
    "        dstSRS ='EPSG:4326')\n",
    "warp_reproj = None"
   ]
  },
  {
   "cell_type": "code",
   "execution_count": 3,
   "metadata": {},
   "outputs": [],
   "source": [
    "path_resam = 'E:\\开源\\chenggong_resam.tif'\n",
    "warp_resam = gdal.Warp(srcDSOrSrcDSTab=path_img,\\\n",
    "                       destNameOrDestDS=path_resam,\\\n",
    "                        xRes = 25,\n",
    "                        yRes = 25,\n",
    "                        resampleAlg = gdal.GRA_Bilinear\n",
    ")\n",
    "warp_resam = None\n",
    "##查看Extent空间范围发生变化，通过warp resam，目的是为了能整除\n"
   ]
  },
  {
   "cell_type": "code",
   "execution_count": 4,
   "metadata": {},
   "outputs": [
    {
     "ename": "ImportError",
     "evalue": "cannot import name 'np' from 'numpy' (D:\\miniconda\\lib\\site-packages\\numpy\\__init__.py)",
     "output_type": "error",
     "traceback": [
      "\u001b[1;31m---------------------------------------------------------------------------\u001b[0m",
      "\u001b[1;31mImportError\u001b[0m                               Traceback (most recent call last)",
      "Cell \u001b[1;32mIn[4], line 3\u001b[0m\n\u001b[0;32m      1\u001b[0m \u001b[38;5;66;03m##用gdal数据库完成栅格数据的裁剪\u001b[39;00m\n\u001b[0;32m      2\u001b[0m \u001b[38;5;28;01mfrom\u001b[39;00m \u001b[38;5;21;01mosgeo\u001b[39;00m \u001b[38;5;28;01mimport\u001b[39;00m gdal\n\u001b[1;32m----> 3\u001b[0m \u001b[38;5;28;01mfrom\u001b[39;00m \u001b[38;5;21;01mnumpy\u001b[39;00m \u001b[38;5;28;01mimport\u001b[39;00m np\n",
      "\u001b[1;31mImportError\u001b[0m: cannot import name 'np' from 'numpy' (D:\\miniconda\\lib\\site-packages\\numpy\\__init__.py)"
     ]
    }
   ],
   "source": [
    "##用gdal数据库完成栅格数据的裁剪\n",
    "from osgeo import gdal\n",
    "from numpy import np"
   ]
  },
  {
   "cell_type": "code",
   "execution_count": null,
   "metadata": {},
   "outputs": [],
   "source": [
    "path_img = 'E:\\开源\\kunming_tiff.tif'"
   ]
  },
  {
   "cell_type": "code",
   "execution_count": 4,
   "metadata": {},
   "outputs": [
    {
     "name": "stdout",
     "output_type": "stream",
     "text": [
      "(874420.0, 10.0, 0.0, 2769600.0, 0.0, -10.0)\n",
      "extent: 874420.0 904220.0 2736990.0 2769600.0\n"
     ]
    }
   ],
   "source": [
    "dset = gdal.Open(path_img)\n",
    "geo_trans = dset.GetGeoTransform()\n",
    "print(geo_trans)\n",
    "\n",
    "x_min, y_max = geo_trans[0], geo_trans[3]\n",
    "x_res, y_res = geo_trans[1], geo_trans[5]\n",
    "\n",
    "x_max = x_min+dset.RasterXSize*x_res\n",
    "y_min = y_max+dset.RasterYSize*y_res\n",
    "print('extent:',x_min, x_max, y_min, y_max)\n",
    "##第1 4为角点，2 6空间分辨率，3 5旋转系数"
   ]
  },
  {
   "cell_type": "code",
   "execution_count": 6,
   "metadata": {},
   "outputs": [],
   "source": [
    "x_min_subs, x_max_subs = 887957, 890779\n",
    "y_min_subs, y_max_subs = 2750586, 2752375\n"
   ]
  },
  {
   "cell_type": "code",
   "execution_count": 36,
   "metadata": {},
   "outputs": [
    {
     "name": "stdout",
     "output_type": "stream",
     "text": [
      "1353.7 1722.5\n"
     ]
    }
   ],
   "source": [
    "col_start_subs = (x_min_subs-x_min)/x_res\n",
    "row_start_subs = (y_max_subs-y_max)/y_res\n",
    "print(col_start_subs, row_start_subs)\n",
    "##为什么会有小数呢？请看video"
   ]
  },
  {
   "cell_type": "code",
   "execution_count": 33,
   "metadata": {},
   "outputs": [
    {
     "name": "stdout",
     "output_type": "stream",
     "text": [
      "1354 1722\n"
     ]
    }
   ],
   "source": [
    "col_start_subs_update, row_start_subs_update = round(col_start_subs), round(row_start_subs)\n",
    "print(col_start_subs_update, row_start_subs_update)\n"
   ]
  },
  {
   "cell_type": "code",
   "execution_count": 37,
   "metadata": {},
   "outputs": [
    {
     "name": "stdout",
     "output_type": "stream",
     "text": [
      "887960.0 2752380.0\n"
     ]
    }
   ],
   "source": [
    "##左上角：\n",
    "x_min_subs_update = x_min + col_start_subs_update*x_res\n",
    "y_max_subs_update = y_max + row_start_subs_update*y_res\n",
    "print(x_min_subs_update, y_max_subs_update)"
   ]
  },
  {
   "cell_type": "code",
   "execution_count": 38,
   "metadata": {},
   "outputs": [
    {
     "name": "stdout",
     "output_type": "stream",
     "text": [
      "281.9 -179.4\n"
     ]
    }
   ],
   "source": [
    "x_size_subs = (x_max_subs - x_min_subs_update)/x_res\n",
    "y_size_subs = (y_max_subs_update-y_min_subs)/y_res\n",
    "print(x_size_subs, y_size_subs)\n",
    "##裁剪后的尺寸为小数不合理"
   ]
  },
  {
   "cell_type": "code",
   "execution_count": 39,
   "metadata": {},
   "outputs": [
    {
     "name": "stdout",
     "output_type": "stream",
     "text": [
      "282 -179\n"
     ]
    }
   ],
   "source": [
    "x_size_subs_update, y_size_subs_update = round(x_size_subs), round(y_size_subs)\n",
    "print(x_size_subs_update, y_size_subs_update)"
   ]
  },
  {
   "cell_type": "code",
   "execution_count": 40,
   "metadata": {},
   "outputs": [
    {
     "name": "stdout",
     "output_type": "stream",
     "text": [
      "890777.0 2754170.0\n"
     ]
    }
   ],
   "source": [
    "x_max_subs_update = x_min_subs + x_size_subs_update*x_res\n",
    "##右下角y\n",
    "y_min_subs_update = y_max_subs_update + y_size_subs_update*y_res\n",
    "print(x_max_subs_update, y_min_subs_update)"
   ]
  },
  {
   "cell_type": "code",
   "execution_count": 41,
   "metadata": {},
   "outputs": [
    {
     "name": "stdout",
     "output_type": "stream",
     "text": [
      "[887960.0, 890777.0, 2754170.0, 2752380.0]\n"
     ]
    }
   ],
   "source": [
    "extent_subs_update = [x_min_subs_update, x_max_subs_update, y_min_subs_update, y_max_subs_update]\n",
    "print(extent_subs_update)"
   ]
  },
  {
   "cell_type": "code",
   "execution_count": 46,
   "metadata": {},
   "outputs": [
    {
     "name": "stdout",
     "output_type": "stream",
     "text": [
      "[887960.0, 10.0, 0, 2752380.0, 0, -10.0]\n"
     ]
    }
   ],
   "source": [
    "geotrans_subs = [x_min_subs_update, x_res, 0,y_max_subs_update, 0, y_res]\n",
    "print(geotrans_subs)"
   ]
  },
  {
   "cell_type": "code",
   "execution_count": 47,
   "metadata": {},
   "outputs": [
    {
     "data": {
      "text/plain": [
       "(6, 3261, 2980)"
      ]
     },
     "execution_count": 47,
     "metadata": {},
     "output_type": "execute_result"
    }
   ],
   "source": [
    "img_array = dset.ReadAsArray()\n",
    "img_array.shape\n",
    "##以上是波段数，行数，列数\n"
   ]
  },
  {
   "cell_type": "code",
   "execution_count": 51,
   "metadata": {},
   "outputs": [
    {
     "name": "stdout",
     "output_type": "stream",
     "text": [
      "(6, 0, 282)\n"
     ]
    }
   ],
   "source": [
    "img_array_subs = img_array[:, \\\n",
    "                           row_start_subs_update:row_start_subs_update+y_size_subs_update, \\\n",
    "                            col_start_subs_update:col_start_subs_update+x_size_subs_update]\n",
    "print(img_array_subs.shape)"
   ]
  },
  {
   "cell_type": "code",
   "execution_count": 52,
   "metadata": {},
   "outputs": [
    {
     "ename": "AttributeError",
     "evalue": "'NoneType' object has no attribute 'SetGeoTransform'",
     "output_type": "error",
     "traceback": [
      "\u001b[1;31m---------------------------------------------------------------------------\u001b[0m",
      "\u001b[1;31mAttributeError\u001b[0m                            Traceback (most recent call last)",
      "Cell \u001b[1;32mIn[52], line 8\u001b[0m\n\u001b[0;32m      2\u001b[0m driver \u001b[38;5;241m=\u001b[39m gdal\u001b[38;5;241m.\u001b[39mGetDriverByName(\u001b[38;5;124m'\u001b[39m\u001b[38;5;124mGTiff\u001b[39m\u001b[38;5;124m'\u001b[39m)\n\u001b[0;32m      3\u001b[0m dset_subs \u001b[38;5;241m=\u001b[39m driver\u001b[38;5;241m.\u001b[39mCreate(path_subs,\n\u001b[0;32m      4\u001b[0m                           xsize\u001b[38;5;241m=\u001b[39mx_size_subs_update,\n\u001b[0;32m      5\u001b[0m                           ysize\u001b[38;5;241m=\u001b[39my_size_subs_update,\n\u001b[0;32m      6\u001b[0m                           bands\u001b[38;5;241m=\u001b[39mdset\u001b[38;5;241m.\u001b[39mRasterCount,\n\u001b[0;32m      7\u001b[0m                           eType\u001b[38;5;241m=\u001b[39mgdal\u001b[38;5;241m.\u001b[39mGDT_Int16)\n\u001b[1;32m----> 8\u001b[0m \u001b[43mdset_subs\u001b[49m\u001b[38;5;241;43m.\u001b[39;49m\u001b[43mSetGeoTransform\u001b[49m(geotrans_subs)\n\u001b[0;32m      9\u001b[0m dset_subs\u001b[38;5;241m.\u001b[39mSetProjection(dset\u001b[38;5;241m.\u001b[39mGetprojection())\n\u001b[0;32m     10\u001b[0m \u001b[38;5;28;01mfor\u001b[39;00m i \u001b[38;5;129;01min\u001b[39;00m \u001b[38;5;28mrange\u001b[39m(dset\u001b[38;5;241m.\u001b[39mRasterCount):\n",
      "\u001b[1;31mAttributeError\u001b[0m: 'NoneType' object has no attribute 'SetGeoTransform'"
     ]
    }
   ],
   "source": [
    "path_subs = 'E:\\开源\\ynu_cj.tif'\n",
    "driver = gdal.GetDriverByName('GTiff')\n",
    "dset_subs = driver.Create(path_subs,\n",
    "                          xsize=x_size_subs_update,\n",
    "                          ysize=y_size_subs_update,\n",
    "                          bands=dset.RasterCount,\n",
    "                          eType=gdal.GDT_Int16)\n",
    "dset_subs.SetGeoTransform(geotrans_subs)\n",
    "dset_subs.SetProjection(dset.Getprojection())\n",
    "for i in range(dset.RasterCount):\n",
    "    outband = dset_subs.GetRasterBand(i+1)\n",
    "    outband.WriteArray(img_array_subs[i])\n",
    "dset_subs= None"
   ]
  }
 ],
 "metadata": {
  "kernelspec": {
   "display_name": "base",
   "language": "python",
   "name": "python3"
  },
  "language_info": {
   "codemirror_mode": {
    "name": "ipython",
    "version": 3
   },
   "file_extension": ".py",
   "mimetype": "text/x-python",
   "name": "python",
   "nbconvert_exporter": "python",
   "pygments_lexer": "ipython3",
   "version": "3.9.18"
  }
 },
 "nbformat": 4,
 "nbformat_minor": 2
}
